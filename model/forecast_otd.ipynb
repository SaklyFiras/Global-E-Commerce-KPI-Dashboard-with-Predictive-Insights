{
 "cells": [
  {
   "cell_type": "code",
   "execution_count": 2,
   "id": "c5242fe5",
   "metadata": {},
   "outputs": [
    {
     "name": "stdout",
     "output_type": "stream",
     "text": [
      "✅ otd_forecast.csv created!\n",
      "       month  otd_forecast\n",
      "0 2025-09-01      0.974870\n",
      "1 2025-10-01      0.975817\n",
      "2 2025-11-01      0.974913\n",
      "3 2025-12-01      0.974655\n",
      "4 2026-01-01      0.974762\n",
      "5 2026-02-01      0.973987\n"
     ]
    },
    {
     "name": "stderr",
     "output_type": "stream",
     "text": [
      "c:\\Users\\Fyras\\anaconda3\\Lib\\site-packages\\statsmodels\\tsa\\base\\tsa_model.py:473: ValueWarning: No frequency information was provided, so inferred frequency MS will be used.\n",
      "  self._init_dates(dates, freq)\n"
     ]
    }
   ],
   "source": [
    "import pandas as pd\n",
    "from statsmodels.tsa.holtwinters import ExponentialSmoothing\n",
    "\n",
    "# Load your orders.csv (adjust path if needed)\n",
    "orders = pd.read_csv(\"../data/raw/orders.csv\", parse_dates=[\"order_date\", \"delivery_date\", \"promised_delivery_date\"])\n",
    "\n",
    "# Create OTD flag (1 = on time, 0 = late)\n",
    "orders[\"otd_flag\"] = (orders[\"delivery_date\"] <= orders[\"promised_delivery_date\"]).astype(int)\n",
    "\n",
    "# Aggregate to monthly OTD rate\n",
    "orders[\"month\"] = orders[\"order_date\"].dt.to_period(\"M\").dt.to_timestamp()\n",
    "monthly_otd = orders.groupby(\"month\")[\"otd_flag\"].mean()\n",
    "\n",
    "# Fit Holt-Winters seasonal model\n",
    "model = ExponentialSmoothing(monthly_otd, trend=\"add\", seasonal=\"add\", seasonal_periods=12)\n",
    "fit = model.fit()\n",
    "\n",
    "# Forecast next 6 months\n",
    "forecast = fit.forecast(6)\n",
    "\n",
    "# Save forecast\n",
    "df_forecast = pd.DataFrame({\n",
    "    \"month\": forecast.index,\n",
    "    \"otd_forecast\": forecast.values\n",
    "})\n",
    "df_forecast.to_csv(\"../data/raw/otd_forecast.csv\", index=False)\n",
    "\n",
    "print(\"✅ otd_forecast.csv created!\")\n",
    "print(df_forecast)\n"
   ]
  }
 ],
 "metadata": {
  "kernelspec": {
   "display_name": "base",
   "language": "python",
   "name": "python3"
  },
  "language_info": {
   "codemirror_mode": {
    "name": "ipython",
    "version": 3
   },
   "file_extension": ".py",
   "mimetype": "text/x-python",
   "name": "python",
   "nbconvert_exporter": "python",
   "pygments_lexer": "ipython3",
   "version": "3.12.7"
  }
 },
 "nbformat": 4,
 "nbformat_minor": 5
}
