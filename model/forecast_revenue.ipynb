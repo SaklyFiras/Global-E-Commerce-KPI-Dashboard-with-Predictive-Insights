{
 "cells": [
  {
   "cell_type": "code",
   "execution_count": 4,
   "id": "bbbef33d",
   "metadata": {},
   "outputs": [
    {
     "name": "stdout",
     "output_type": "stream",
     "text": [
      "Forecast saved!\n"
     ]
    },
    {
     "name": "stderr",
     "output_type": "stream",
     "text": [
      "c:\\Users\\Fyras\\anaconda3\\Lib\\site-packages\\statsmodels\\tsa\\base\\tsa_model.py:473: ValueWarning: No frequency information was provided, so inferred frequency MS will be used.\n",
      "  self._init_dates(dates, freq)\n",
      "c:\\Users\\Fyras\\anaconda3\\Lib\\site-packages\\statsmodels\\tsa\\holtwinters\\model.py:918: ConvergenceWarning: Optimization failed to converge. Check mle_retvals.\n",
      "  warnings.warn(\n"
     ]
    }
   ],
   "source": [
    "import pandas as pd\n",
    "from statsmodels.tsa.holtwinters import ExponentialSmoothing\n",
    "\n",
    "# Load orders\n",
    "orders = pd.read_csv(\"../data/raw/orders.csv\", parse_dates=[\"order_date\"])\n",
    "orders[\"month\"] = orders[\"order_date\"].dt.to_period(\"M\").dt.to_timestamp()\n",
    "\n",
    "monthly_rev = orders.groupby(\"month\")[\"revenue\"].sum()\n",
    "\n",
    "# Simple Holt-Winters forecast\n",
    "model = ExponentialSmoothing(monthly_rev, trend=\"add\", seasonal=\"mul\", seasonal_periods=12)\n",
    "fit = model.fit()\n",
    "forecast = fit.forecast(6)  # next 6 months\n",
    "\n",
    "# Combine\n",
    "df_forecast = pd.DataFrame({\n",
    "    \"month\": forecast.index,\n",
    "    \"revenue_forecast\": forecast.values\n",
    "})\n",
    "\n",
    "df_forecast.to_csv(\"../data/raw/revenue_forecast.csv\", index=False)\n",
    "print(\"Forecast saved!\")\n"
   ]
  }
 ],
 "metadata": {
  "kernelspec": {
   "display_name": "base",
   "language": "python",
   "name": "python3"
  },
  "language_info": {
   "codemirror_mode": {
    "name": "ipython",
    "version": 3
   },
   "file_extension": ".py",
   "mimetype": "text/x-python",
   "name": "python",
   "nbconvert_exporter": "python",
   "pygments_lexer": "ipython3",
   "version": "3.12.7"
  }
 },
 "nbformat": 4,
 "nbformat_minor": 5
}
